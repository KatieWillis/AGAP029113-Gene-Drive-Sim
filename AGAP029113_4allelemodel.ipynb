{
 "cells": [
  {
   "cell_type": "code",
   "execution_count": null,
   "metadata": {},
   "outputs": [],
   "source": [
    "] activate \"./Environment/\""
   ]
  },
  {
   "cell_type": "code",
   "execution_count": 2,
   "metadata": {},
   "outputs": [],
   "source": [
    "using NBInclude\n",
    "@nbinclude(\"./Environment/Setup.ipynb\");\n",
    "using Plots; pyplot();"
   ]
  },
  {
   "cell_type": "code",
   "execution_count": 3,
   "metadata": {},
   "outputs": [],
   "source": [
    "@nbinclude(\"./ConstructBuilder_Simulator-withAfunctionalresistance-v2.ipynb\");"
   ]
  },
  {
   "cell_type": "markdown",
   "metadata": {},
   "source": [
    "# Calculate cleavage/end joining rates"
   ]
  },
  {
   "cell_type": "markdown",
   "metadata": {},
   "source": [
    "d = proportion of offspring which inherit the construct\n",
    "\n",
    "e = probability of homing (cleavage and successful conversion to transgene)\n",
    "\n",
    "p = proportion of non-homed chromosomes which are WT\n",
    "\n",
    "u = 1-p = proportion of non-homed chromosomes which are mutant\n",
    "\n",
    "c = probability of cleavage\n",
    "\n",
    "j = probability of end joining given cleavage"
   ]
  },
  {
   "cell_type": "code",
   "execution_count": 4,
   "metadata": {},
   "outputs": [],
   "source": [
    "d,e,c,j,u,p = symbols(\"d e c j u p\");\n",
    "\n",
    "#probability of homing (e) as a function of \n",
    "#the proportion of offspring which inherit the construct (d)\n",
    "e = (2*d)-1\n",
    "prob_not_homed = 1-e\n",
    "\n",
    "#probability of a WT allele is\n",
    "#probability of non-homing event (no cleavage or end-joining)\n",
    "#multiplied by the probability of a non-cleaved allele being WT\n",
    "prob_WT = prob_not_homed*(1-u)\n",
    "\n",
    "#probability of a mutant allele is\n",
    "#probability of non-homing event (no cleavage or end-joining)\n",
    "#multiplied by the probability of a non-cleaved allele being mutant\n",
    "prob_NHEJ_product = prob_not_homed*(u)\n",
    "\n",
    "#probability of cleavage is\n",
    "#probability of homing + the probability of a NHEJ\n",
    "prob_cleavage = e + prob_NHEJ_product\n",
    "\n",
    "#probability of NHEJ given cleavage is\n",
    "#probability of NHEJ/ all cleavage events\n",
    "prob_joining = prob_NHEJ_product/(prob_cleavage);\n",
    "\n",
    "c = simplify(prob_cleavage)\n",
    "j = simplify(prob_joining);"
   ]
  },
  {
   "cell_type": "code",
   "execution_count": 5,
   "metadata": {},
   "outputs": [],
   "source": [
    "#our data is in the form of p, rather than u, so substitute in u = 1-p\n",
    "c = subs(c,(u,1-p))\n",
    "j = subs(j,(u,1-p));"
   ]
  },
  {
   "cell_type": "code",
   "execution_count": 6,
   "metadata": {},
   "outputs": [
    {
     "name": "stdout",
     "output_type": "stream",
     "text": [
      "0.892836000000000\n",
      "0.872284000000000\n",
      "0.0434973500172484\n",
      "0.0530607004140853\n"
     ]
    }
   ],
   "source": [
    "cf_ = subs(c,(d,0.927),(p,0.734))\n",
    "cm_ = subs(c,(d,0.913),(p,0.734))\n",
    "jf_ = subs(j,(d,0.927),(p,0.734))\n",
    "jm_ = subs(j,(d,0.913),(p,0.734))\n",
    "\n",
    "println(cf_)\n",
    "println(cm_)\n",
    "println(jf_)\n",
    "println(jm_)"
   ]
  },
  {
   "cell_type": "markdown",
   "metadata": {},
   "source": [
    "# Simulations"
   ]
  },
  {
   "cell_type": "code",
   "execution_count": 7,
   "metadata": {},
   "outputs": [
    {
     "data": {
      "text/plain": [
       "extract_freq (generic function with 1 method)"
      ]
     },
     "execution_count": 7,
     "metadata": {},
     "output_type": "execute_result"
    }
   ],
   "source": [
    "function extract_freq(genotype_freq_store,allele)\n",
    "    \n",
    "    mask = [(occursin(allele,i[1])) | (occursin(allele,i[2])) for i in genotypes]\n",
    "    output = genotype_freq_store[!,mask]\n",
    "    carriers = sum.(eachrow(output))\n",
    "    return(carriers)\n",
    "end"
   ]
  },
  {
   "cell_type": "code",
   "execution_count": 8,
   "metadata": {},
   "outputs": [],
   "source": [
    "#Set up model constants\n",
    "A_construct = [\"cas9\",\"grna\"]\n",
    "B_construct = [] #Only a single construct modelled here\n",
    "\n",
    "fitness_effect = \"adult\"\n",
    "\n",
    "A_homing_dependency = \"constitutive\"\n",
    "B_homing_dependency = \"conditional\" #Only a single construct modelled here so this doesnt matter\n",
    "XS_dependency = \"none\" #No X-shredder\n",
    "\n",
    "#The new costs are associated with the functional allele\n",
    "Aallele_fitness = \"o\"\n",
    "\n",
    "#initiate population\n",
    "transgenic_genotype = \"ABaB\"\n",
    "release_freq = 0.2\n",
    "resistant_allele = \"α\"\n",
    "resistant_freq = 0.0\n",
    "\n",
    "#initiate both sexes at 20% of the population\n",
    "params =  Initiate_baseline_parameters()\n",
    "pre_release_pop = Initiate_prerelease_population_3lifestages(resistant_allele, resistant_freq, params)\n",
    "pre_release_pop[:,\"ABAB\"] = [1.0,1.0,1.0,1.0,1.0,1.0]\n",
    "pre_release_pop[:,\"ABAB\"] .= 1.0-release_freq\n",
    "pre_release_pop[:,transgenic_genotype] .= release_freq\n",
    "starting_population_post_release = transpose(Array(pre_release_pop));"
   ]
  },
  {
   "cell_type": "markdown",
   "metadata": {},
   "source": [
    "## Data for fig 4"
   ]
  },
  {
   "cell_type": "code",
   "execution_count": 9,
   "metadata": {},
   "outputs": [],
   "source": [
    "t=3;"
   ]
  },
  {
   "cell_type": "code",
   "execution_count": 10,
   "metadata": {
    "code_folding": []
   },
   "outputs": [
    {
     "data": {
      "text/plain": [
       "4-element Array{Float64,1}:\n",
       " 0.2\n",
       " 0.19\n",
       " 0.1735537190082645\n",
       " 0.15972222222222224"
      ]
     },
     "execution_count": 10,
     "metadata": {},
     "output_type": "execute_result"
    }
   ],
   "source": [
    "#Sim DOCKING LINE\n",
    "params =  Initiate_baseline_parameters()\n",
    "\n",
    "params[\"siaf\"] = 1.0 #homozygous KO cost in females = 1\n",
    "params[\"hiaf\"] = 0.0\n",
    "params[\"sraf\"] = 0.0\n",
    "params[\"hraf\"] = 0.0\n",
    "params[\"siraf\"] = 0.0\n",
    "\n",
    "params[\"siam\"] = 1.0 #homozygous KO cost in females = 1\n",
    "params[\"hiam\"] = 0.0\n",
    "params[\"sram\"] = 0.0\n",
    "params[\"hram\"] = 0.0\n",
    "params[\"siram\"] = 0.0\n",
    "\n",
    "matrices = make_matrices(params,\n",
    "                A_construct,\n",
    "                B_construct,\n",
    "                A_homing_dependency,\n",
    "                B_homing_dependency,\n",
    "                XS_dependency,\n",
    "                Aallele_fitness);\n",
    "output = Simulate_timeseries(\n",
    "                params,\n",
    "                matrices,\n",
    "                XS_dependency,\n",
    "                fitness_effect,\n",
    "                t,\n",
    "                starting_population_post_release)\n",
    "data_dict = Simulation_processing_wrapper(output)\n",
    "freq_transgenic_docking = extract_freq(data_dict[\"genotypefreq_zygote\"],\"a\")"
   ]
  },
  {
   "cell_type": "code",
   "execution_count": 11,
   "metadata": {
    "code_folding": []
   },
   "outputs": [
    {
     "data": {
      "text/plain": [
       "4-element Array{Float64,1}:\n",
       " 0.2\n",
       " 0.3341459600000001\n",
       " 0.48867130024401617\n",
       " 0.6457586185303885"
      ]
     },
     "execution_count": 11,
     "metadata": {},
     "output_type": "execute_result"
    }
   ],
   "source": [
    "#Sim CRISPR\n",
    "params =  Initiate_baseline_parameters()\n",
    "params[\"siaf\"] = 1.0 #homozygous KO cost in females = 1\n",
    "params[\"hiaf\"] = 0.0 \n",
    "params[\"sraf\"] = 0.0 \n",
    "params[\"hraf\"] = 0.0\n",
    "params[\"siraf\"] = 0.0 \n",
    "\n",
    "params[\"siam\"] = 1.0 #homozygous KO cost in males = 1\n",
    "params[\"hiam\"] = 0.0\n",
    "params[\"sram\"] = 0.0 \n",
    "params[\"hram\"] = 0.0\n",
    "params[\"siram\"] = 0.0 \n",
    "\n",
    "#add in homing rates\n",
    "params[\"caf\"] = cf_ #cleavage in females\n",
    "params[\"jaf\"] = jf_ #end joining in females\n",
    "params[\"cam\"] = cm_ #cleavage in males\n",
    "params[\"jam\"] = jm_ #end joining in males\n",
    "\n",
    "\n",
    "matrices = make_matrices(params,\n",
    "                A_construct,\n",
    "                B_construct,\n",
    "                A_homing_dependency,\n",
    "                B_homing_dependency,\n",
    "                XS_dependency,\n",
    "                Aallele_fitness);\n",
    "output = Simulate_timeseries(\n",
    "                params,\n",
    "                matrices,\n",
    "                XS_dependency,\n",
    "                fitness_effect,\n",
    "                t,\n",
    "                starting_population_post_release)\n",
    "data_dict = Simulation_processing_wrapper(output)\n",
    "freq_transgenic_CRISPR = extract_freq(data_dict[\"genotypefreq_zygote\"],\"a\")"
   ]
  },
  {
   "cell_type": "code",
   "execution_count": 12,
   "metadata": {
    "code_folding": []
   },
   "outputs": [
    {
     "data": {
      "text/plain": [
       "4-element Array{Float64,1}:\n",
       " 0.2\n",
       " 0.3067764555183947\n",
       " 0.2917500081845626\n",
       " 0.27694179041768574"
      ]
     },
     "execution_count": 12,
     "metadata": {},
     "output_type": "execute_result"
    }
   ],
   "source": [
    "#Sim CRISPR with observed costs\n",
    "params =  Initiate_baseline_parameters()\n",
    "\n",
    "params[\"siaf\"] = 1.0 #homozygous KO cost in females = 1\n",
    "params[\"hiaf\"] = 0.0 \n",
    "params[\"sraf\"] = 0.0\n",
    "params[\"hraf\"] = 0.0\n",
    "params[\"siraf\"] = 0.0\n",
    "\n",
    "params[\"siam\"] = 1.0 #homozygous KO cost in males = 1\n",
    "params[\"hiam\"] = 0.0\n",
    "params[\"sram\"] = 0.0\n",
    "params[\"hram\"] = 0.0\n",
    "params[\"siram\"] = 0.0\n",
    "\n",
    "#add in homing\n",
    "params[\"caf\"] = cf_ #cleavage in females\n",
    "params[\"jaf\"] = jf_ #end joining in females\n",
    "params[\"cam\"] = cm_ #cleavage in males\n",
    "params[\"jam\"] = jm_ #end joining in males\n",
    "\n",
    "#lower hatching rate of offspring from CRISPR/WT females crossed to WT males\n",
    "params[\"sFiaf\"]=0.216\n",
    "params[\"hFiaf\"]=1.0\n",
    "params[\"sFraf\"]=0.0\n",
    "params[\"hFraf\"]=1.0\n",
    "params[\"sFiraf\"]=0.0\n",
    "\n",
    "# % of larvae which emerge to adulthood is lower from CRISPR/WT x WT crosses\n",
    "# Assuming this is due to somatic expression:\n",
    "params[\"sSaf\"]=0.462 # females\n",
    "params[\"sSam\"]=0.378 # males\n",
    "\n",
    "matrices = make_matrices(params,\n",
    "                A_construct,\n",
    "                B_construct,\n",
    "                A_homing_dependency,\n",
    "                B_homing_dependency,\n",
    "                XS_dependency,\n",
    "                Aallele_fitness);\n",
    "output = Simulate_timeseries(\n",
    "                params,\n",
    "                matrices,\n",
    "                XS_dependency,\n",
    "                fitness_effect,\n",
    "                t,\n",
    "                starting_population_post_release)\n",
    "data_dict = Simulation_processing_wrapper(output)\n",
    "freq_transgenic_CRISPR_cost = extract_freq(data_dict[\"genotypefreq_zygote\"],\"a\")"
   ]
  },
  {
   "cell_type": "code",
   "execution_count": 13,
   "metadata": {
    "code_folding": []
   },
   "outputs": [
    {
     "data": {
      "text/plain": [
       "4-element Array{Float64,1}:\n",
       " 0.2\n",
       " 0.3067764555183947\n",
       " 0.062412427894549774\n",
       " 0.010593441659927127"
      ]
     },
     "execution_count": 13,
     "metadata": {},
     "output_type": "execute_result"
    }
   ],
   "source": [
    "#Sim CRISPR with added costs\n",
    "params =  Initiate_baseline_parameters()\n",
    "\n",
    "params[\"siaf\"] = 1.0 #homozygous KO cost in females = 1\n",
    "params[\"hiaf\"] = 0.0 \n",
    "params[\"sraf\"] = 0.0\n",
    "params[\"hraf\"] = 0.0\n",
    "params[\"siraf\"] = 0.0\n",
    "\n",
    "params[\"siam\"] = 1.0 #homozygous KO cost in males = 1\n",
    "params[\"hiam\"] = 0.0\n",
    "params[\"sram\"] = 0.0\n",
    "params[\"hram\"] = 0.0\n",
    "params[\"siram\"] = 0.0\n",
    "\n",
    "#add in homing\n",
    "params[\"caf\"] = cf_ #cleavage in females\n",
    "params[\"jaf\"] = jf_ #end joining in females\n",
    "params[\"cam\"] = cm_ #cleavage in males\n",
    "params[\"jam\"] = jm_ #end joining in males\n",
    "\n",
    "#lower hatching rate of offspring from CRISPR/WT females crossed to WT males\n",
    "params[\"sFiaf\"]=0.216\n",
    "params[\"hFiaf\"]=1.0\n",
    "params[\"sFraf\"]=0.0\n",
    "params[\"hFraf\"]=1.0\n",
    "params[\"sFiraf\"]=0.0\n",
    "\n",
    "# % of larvae which emerge to adulthood is lower from CRISPR/WT x WT crosses + additional costs \n",
    "# Assuming this is due to somatic expression:\n",
    "params[\"sSaf\"]=0.9 # females\n",
    "params[\"sSam\"]=0.9 # males\n",
    "\n",
    "matrices = make_matrices(params,\n",
    "                A_construct,\n",
    "                B_construct,\n",
    "                A_homing_dependency,\n",
    "                B_homing_dependency,\n",
    "                XS_dependency,\n",
    "                Aallele_fitness);\n",
    "output = Simulate_timeseries(\n",
    "                params,\n",
    "                matrices,\n",
    "                XS_dependency,\n",
    "                fitness_effect,\n",
    "                t,\n",
    "                starting_population_post_release)\n",
    "data_dict = Simulation_processing_wrapper(output)\n",
    "freq_transgenic_CRISPR_cost_09 = extract_freq(data_dict[\"genotypefreq_zygote\"],\"a\")\n"
   ]
  },
  {
   "cell_type": "markdown",
   "metadata": {},
   "source": [
    "## Data for fig S1"
   ]
  },
  {
   "cell_type": "code",
   "execution_count": 14,
   "metadata": {
    "code_folding": []
   },
   "outputs": [
    {
     "data": {
      "text/plain": [
       "experimental_costs_sim (generic function with 1 method)"
      ]
     },
     "execution_count": 14,
     "metadata": {},
     "output_type": "execute_result"
    }
   ],
   "source": [
    "function experimental_costs_sim(pa_freq)\n",
    "    \n",
    "    params =  Initiate_baseline_parameters()\n",
    "    \n",
    "    params[\"siaf\"] = 1.0\n",
    "    params[\"hiaf\"] = 0.0\n",
    "    params[\"sraf\"] = 0.0\n",
    "    params[\"hraf\"] = 0.0\n",
    "    params[\"siraf\"] = 0.0\n",
    "\n",
    "    params[\"siam\"] = 1.0\n",
    "    params[\"hiam\"] = 0.0\n",
    "    params[\"sram\"] = 0.0\n",
    "    params[\"hram\"] = 0.0\n",
    "    params[\"siram\"] = 0.0\n",
    "    \n",
    "    #lower hatching rate of offspring from CRISPR/WT females crossed to WT males\n",
    "    params[\"sFiaf\"]=0.216\n",
    "    params[\"hFiaf\"]=1.0\n",
    "    params[\"sFraf\"]=0.0\n",
    "    params[\"hFraf\"]=1.0\n",
    "    params[\"sFiraf\"]=0.0\n",
    "\n",
    "    # % of larvae which emerge to adulthood is lower from CRISPR/WT x WT crosses\n",
    "    # Assuming this is due to somatic expression:\n",
    "    params[\"sSaf\"]=0.462 # females\n",
    "    params[\"sSam\"]=0.378 # males\n",
    "\n",
    "    #homing\n",
    "    params[\"caf\"] = cf_ #cleavage in females\n",
    "    params[\"jaf\"] = jf_ #end joining in females\n",
    "    params[\"cam\"] = cm_ #cleavage in males\n",
    "    params[\"jam\"] = jm_ #end joining in males\n",
    "\n",
    "    #production of functional resistant alleles\n",
    "    params[\"pa\"] = pa_freq\n",
    "    \n",
    "    #Substitutute params into matrices\n",
    "    matrices = make_matrices(params,\n",
    "                    A_construct,\n",
    "                    B_construct,\n",
    "                    A_homing_dependency,\n",
    "                    B_homing_dependency,\n",
    "                    XS_dependency,\n",
    "                    Aallele_fitness);\n",
    "\n",
    "    output = Simulate_timeseries(\n",
    "                    params,\n",
    "                    matrices,\n",
    "                    XS_dependency,\n",
    "                    fitness_effect,\n",
    "                    t,\n",
    "                    starting_population_post_release)\n",
    "\n",
    "    data_dict = Simulation_processing_wrapper(output)\n",
    "    \n",
    "    return(data_dict[\"genotypefreq_zygote\"],data_dict[\"allelefreq_zygote\"])\n",
    "end\n"
   ]
  },
  {
   "cell_type": "code",
   "execution_count": 15,
   "metadata": {},
   "outputs": [
    {
     "data": {
      "image/png": "[encoded data removed]",
      "text/plain": [
       "PyPlot.Figure(PyObject <Figure size 400x300 with 1 Axes>)"
      ]
     },
     "metadata": {},
     "output_type": "display_data"
    }
   ],
   "source": [
    "#Plot\n",
    "f1 = PyPlot.figure(figsize=(4,3),frameon=false)\n",
    "\n",
    "t=50\n",
    "out = Dict()\n",
    "pa_freq_vec = [0.0,0.01,0.02,0.05,0.1,0.5,1]\n",
    "\n",
    "for pa_freq in pa_freq_vec\n",
    "    genotype_freqz_store,allele_freqz = experimental_costs_sim(pa_freq);\n",
    "    PyPlot.plot(0:t,allele_freqz[:,:a],label = pa_freq)\n",
    "    out[string(pa_freq)] = extract_freq(genotype_freqz_store,\"a\")\n",
    "end\n",
    "\n",
    "PyPlot.xlim([-0.05,t+0.05])\n",
    "PyPlot.ylim([0,1.02])\n",
    "PyPlot.xlabel(\"generation\",size=10)\n",
    "PyPlot.ylabel(\"Allele frequency\",size=10)\n",
    "\n",
    "PyPlot.tight_layout()\n",
    "lgd = PyPlot.legend(bbox_to_anchor=(1.5, 1.05))\n",
    "\n",
    "PyPlot.show()"
   ]
  },
  {
   "cell_type": "code",
   "execution_count": 16,
   "metadata": {},
   "outputs": [
    {
     "data": {
      "text/html": [
       "<table class=\"data-frame\"><thead><tr><th></th><th>0.0</th><th>0.01</th><th>0.02</th><th>0.05</th><th>0.1</th><th>0.5</th><th>1.0</th></tr><tr><th></th><th>Float64</th><th>Float64</th><th>Float64</th><th>Float64</th><th>Float64</th><th>Float64</th><th>Float64</th></tr></thead><tbody><p>51 rows × 7 columns</p><tr><th>1</th><td>0.2</td><td>0.2</td><td>0.2</td><td>0.2</td><td>0.2</td><td>0.2</td><td>0.2</td></tr><tr><th>2</th><td>0.306776</td><td>0.306776</td><td>0.306776</td><td>0.306776</td><td>0.306776</td><td>0.306776</td><td>0.306776</td></tr><tr><th>3</th><td>0.29175</td><td>0.291759</td><td>0.291767</td><td>0.291794</td><td>0.291837</td><td>0.292187</td><td>0.292626</td></tr><tr><th>4</th><td>0.276942</td><td>0.276966</td><td>0.27699</td><td>0.277063</td><td>0.277185</td><td>0.278161</td><td>0.279389</td></tr><tr><th>5</th><td>0.262093</td><td>0.262138</td><td>0.262183</td><td>0.262318</td><td>0.262543</td><td>0.264358</td><td>0.266657</td></tr><tr><th>6</th><td>0.247351</td><td>0.24742</td><td>0.24749</td><td>0.247697</td><td>0.248044</td><td>0.250846</td><td>0.254422</td></tr><tr><th>7</th><td>0.23285</td><td>0.232945</td><td>0.23304</td><td>0.233326</td><td>0.233803</td><td>0.23768</td><td>0.242675</td></tr><tr><th>8</th><td>0.2187</td><td>0.218822</td><td>0.218943</td><td>0.219309</td><td>0.21992</td><td>0.22491</td><td>0.231408</td></tr><tr><th>9</th><td>0.204994</td><td>0.205142</td><td>0.205289</td><td>0.205733</td><td>0.206476</td><td>0.212576</td><td>0.220613</td></tr><tr><th>10</th><td>0.191805</td><td>0.191977</td><td>0.19215</td><td>0.192668</td><td>0.193536</td><td>0.200708</td><td>0.210282</td></tr><tr><th>11</th><td>0.179187</td><td>0.179381</td><td>0.179576</td><td>0.180163</td><td>0.181147</td><td>0.189331</td><td>0.200406</td></tr><tr><th>12</th><td>0.167176</td><td>0.167391</td><td>0.167606</td><td>0.168254</td><td>0.169342</td><td>0.178459</td><td>0.190976</td></tr><tr><th>13</th><td>0.155795</td><td>0.156027</td><td>0.15626</td><td>0.156962</td><td>0.158142</td><td>0.168101</td><td>0.181982</td></tr><tr><th>14</th><td>0.145052</td><td>0.145299</td><td>0.145548</td><td>0.146296</td><td>0.147555</td><td>0.158259</td><td>0.173414</td></tr><tr><th>15</th><td>0.134947</td><td>0.135207</td><td>0.135468</td><td>0.136254</td><td>0.13758</td><td>0.14893</td><td>0.165258</td></tr><tr><th>16</th><td>0.12547</td><td>0.12574</td><td>0.126011</td><td>0.126828</td><td>0.128207</td><td>0.140106</td><td>0.157504</td></tr><tr><th>17</th><td>0.116605</td><td>0.116882</td><td>0.117161</td><td>0.118001</td><td>0.119422</td><td>0.131775</td><td>0.150137</td></tr><tr><th>18</th><td>0.10833</td><td>0.108612</td><td>0.108896</td><td>0.109753</td><td>0.111205</td><td>0.123921</td><td>0.143144</td></tr><tr><th>19</th><td>0.100619</td><td>0.100905</td><td>0.101192</td><td>0.10206</td><td>0.103532</td><td>0.116529</td><td>0.136511</td></tr><tr><th>20</th><td>0.0934451</td><td>0.0937326</td><td>0.0940213</td><td>0.0948954</td><td>0.0963789</td><td>0.109579</td><td>0.130222</td></tr><tr><th>21</th><td>0.0867797</td><td>0.0870671</td><td>0.0873559</td><td>0.0882308</td><td>0.0897175</td><td>0.103051</td><td>0.124263</td></tr><tr><th>22</th><td>0.0805928</td><td>0.0808788</td><td>0.0811663</td><td>0.0820377</td><td>0.0835204</td><td>0.0969245</td><td>0.118619</td></tr><tr><th>23</th><td>0.0748549</td><td>0.0751383</td><td>0.0754232</td><td>0.0762875</td><td>0.07776</td><td>0.0911781</td><td>0.113275</td></tr><tr><th>24</th><td>0.0695367</td><td>0.0698165</td><td>0.0700979</td><td>0.0709519</td><td>0.0724089</td><td>0.085791</td><td>0.108215</td></tr><tr><th>25</th><td>0.06461</td><td>0.0648853</td><td>0.0651622</td><td>0.0660033</td><td>0.0674401</td><td>0.0807425</td><td>0.103427</td></tr><tr><th>26</th><td>0.0600475</td><td>0.0603175</td><td>0.0605893</td><td>0.0614153</td><td>0.0628281</td><td>0.0760127</td><td>0.0988943</td></tr><tr><th>27</th><td>0.0558232</td><td>0.0560875</td><td>0.0563535</td><td>0.0571625</td><td>0.058548</td><td>0.071582</td><td>0.0946044</td></tr><tr><th>28</th><td>0.0519125</td><td>0.0521705</td><td>0.0524303</td><td>0.0532208</td><td>0.0545764</td><td>0.0674317</td><td>0.0905436</td></tr><tr><th>29</th><td>0.0482923</td><td>0.0485436</td><td>0.0487968</td><td>0.0495677</td><td>0.0508913</td><td>0.0635439</td><td>0.0866992</td></tr><tr><th>30</th><td>0.0449408</td><td>0.0451852</td><td>0.0454314</td><td>0.0461817</td><td>0.0474717</td><td>0.0599018</td><td>0.0830588</td></tr><tr><th>&vellip;</th><td>&vellip;</td><td>&vellip;</td><td>&vellip;</td><td>&vellip;</td><td>&vellip;</td><td>&vellip;</td><td>&vellip;</td></tr></tbody></table>"
      ],
      "text/latex": [
       "\\begin{tabular}{r|ccccccc}\n",
       "\t& 0.0 & 0.01 & 0.02 & 0.05 & 0.1 & 0.5 & 1.0\\\\\n",
       "\t\\hline\n",
       "\t& Float64 & Float64 & Float64 & Float64 & Float64 & Float64 & Float64\\\\\n",
       "\t\\hline\n",
       "\t1 & 0.2 & 0.2 & 0.2 & 0.2 & 0.2 & 0.2 & 0.2 \\\\\n",
       "\t2 & 0.306776 & 0.306776 & 0.306776 & 0.306776 & 0.306776 & 0.306776 & 0.306776 \\\\\n",
       "\t3 & 0.29175 & 0.291759 & 0.291767 & 0.291794 & 0.291837 & 0.292187 & 0.292626 \\\\\n",
       "\t4 & 0.276942 & 0.276966 & 0.27699 & 0.277063 & 0.277185 & 0.278161 & 0.279389 \\\\\n",
       "\t5 & 0.262093 & 0.262138 & 0.262183 & 0.262318 & 0.262543 & 0.264358 & 0.266657 \\\\\n",
       "\t6 & 0.247351 & 0.24742 & 0.24749 & 0.247697 & 0.248044 & 0.250846 & 0.254422 \\\\\n",
       "\t7 & 0.23285 & 0.232945 & 0.23304 & 0.233326 & 0.233803 & 0.23768 & 0.242675 \\\\\n",
       "\t8 & 0.2187 & 0.218822 & 0.218943 & 0.219309 & 0.21992 & 0.22491 & 0.231408 \\\\\n",
       "\t9 & 0.204994 & 0.205142 & 0.205289 & 0.205733 & 0.206476 & 0.212576 & 0.220613 \\\\\n",
       "\t10 & 0.191805 & 0.191977 & 0.19215 & 0.192668 & 0.193536 & 0.200708 & 0.210282 \\\\\n",
       "\t11 & 0.179187 & 0.179381 & 0.179576 & 0.180163 & 0.181147 & 0.189331 & 0.200406 \\\\\n",
       "\t12 & 0.167176 & 0.167391 & 0.167606 & 0.168254 & 0.169342 & 0.178459 & 0.190976 \\\\\n",
       "\t13 & 0.155795 & 0.156027 & 0.15626 & 0.156962 & 0.158142 & 0.168101 & 0.181982 \\\\\n",
       "\t14 & 0.145052 & 0.145299 & 0.145548 & 0.146296 & 0.147555 & 0.158259 & 0.173414 \\\\\n",
       "\t15 & 0.134947 & 0.135207 & 0.135468 & 0.136254 & 0.13758 & 0.14893 & 0.165258 \\\\\n",
       "\t16 & 0.12547 & 0.12574 & 0.126011 & 0.126828 & 0.128207 & 0.140106 & 0.157504 \\\\\n",
       "\t17 & 0.116605 & 0.116882 & 0.117161 & 0.118001 & 0.119422 & 0.131775 & 0.150137 \\\\\n",
       "\t18 & 0.10833 & 0.108612 & 0.108896 & 0.109753 & 0.111205 & 0.123921 & 0.143144 \\\\\n",
       "\t19 & 0.100619 & 0.100905 & 0.101192 & 0.10206 & 0.103532 & 0.116529 & 0.136511 \\\\\n",
       "\t20 & 0.0934451 & 0.0937326 & 0.0940213 & 0.0948954 & 0.0963789 & 0.109579 & 0.130222 \\\\\n",
       "\t21 & 0.0867797 & 0.0870671 & 0.0873559 & 0.0882308 & 0.0897175 & 0.103051 & 0.124263 \\\\\n",
       "\t22 & 0.0805928 & 0.0808788 & 0.0811663 & 0.0820377 & 0.0835204 & 0.0969245 & 0.118619 \\\\\n",
       "\t23 & 0.0748549 & 0.0751383 & 0.0754232 & 0.0762875 & 0.07776 & 0.0911781 & 0.113275 \\\\\n",
       "\t24 & 0.0695367 & 0.0698165 & 0.0700979 & 0.0709519 & 0.0724089 & 0.085791 & 0.108215 \\\\\n",
       "\t25 & 0.06461 & 0.0648853 & 0.0651622 & 0.0660033 & 0.0674401 & 0.0807425 & 0.103427 \\\\\n",
       "\t26 & 0.0600475 & 0.0603175 & 0.0605893 & 0.0614153 & 0.0628281 & 0.0760127 & 0.0988943 \\\\\n",
       "\t27 & 0.0558232 & 0.0560875 & 0.0563535 & 0.0571625 & 0.058548 & 0.071582 & 0.0946044 \\\\\n",
       "\t28 & 0.0519125 & 0.0521705 & 0.0524303 & 0.0532208 & 0.0545764 & 0.0674317 & 0.0905436 \\\\\n",
       "\t29 & 0.0482923 & 0.0485436 & 0.0487968 & 0.0495677 & 0.0508913 & 0.0635439 & 0.0866992 \\\\\n",
       "\t30 & 0.0449408 & 0.0451852 & 0.0454314 & 0.0461817 & 0.0474717 & 0.0599018 & 0.0830588 \\\\\n",
       "\t$\\dots$ & $\\dots$ & $\\dots$ & $\\dots$ & $\\dots$ & $\\dots$ & $\\dots$ & $\\dots$ \\\\\n",
       "\\end{tabular}\n"
      ],
      "text/plain": [
       "\u001b[1m51×7 DataFrame\u001b[0m\n",
       "\u001b[1m Row \u001b[0m│\u001b[1m 0.0       \u001b[0m\u001b[1m 0.01      \u001b[0m\u001b[1m 0.02      \u001b[0m\u001b[1m 0.05      \u001b[0m\u001b[1m 0.1       \u001b[0m\u001b[1m 0.5       \u001b[0m\u001b[1m 1.0  \u001b[0m ⋯\n",
       "\u001b[1m     \u001b[0m│\u001b[90m Float64   \u001b[0m\u001b[90m Float64   \u001b[0m\u001b[90m Float64   \u001b[0m\u001b[90m Float64   \u001b[0m\u001b[90m Float64   \u001b[0m\u001b[90m Float64   \u001b[0m\u001b[90m Float\u001b[0m ⋯\n",
       "─────┼──────────────────────────────────────────────────────────────────────────\n",
       "   1 │ 0.2        0.2        0.2        0.2        0.2        0.2        0.2   ⋯\n",
       "   2 │ 0.306776   0.306776   0.306776   0.306776   0.306776   0.306776   0.306\n",
       "   3 │ 0.29175    0.291759   0.291767   0.291794   0.291837   0.292187   0.292\n",
       "   4 │ 0.276942   0.276966   0.27699    0.277063   0.277185   0.278161   0.279\n",
       "   5 │ 0.262093   0.262138   0.262183   0.262318   0.262543   0.264358   0.266 ⋯\n",
       "   6 │ 0.247351   0.24742    0.24749    0.247697   0.248044   0.250846   0.254\n",
       "   7 │ 0.23285    0.232945   0.23304    0.233326   0.233803   0.23768    0.242\n",
       "   8 │ 0.2187     0.218822   0.218943   0.219309   0.21992    0.22491    0.231\n",
       "   9 │ 0.204994   0.205142   0.205289   0.205733   0.206476   0.212576   0.220 ⋯\n",
       "  10 │ 0.191805   0.191977   0.19215    0.192668   0.193536   0.200708   0.210\n",
       "  11 │ 0.179187   0.179381   0.179576   0.180163   0.181147   0.189331   0.200\n",
       "  ⋮  │     ⋮          ⋮          ⋮          ⋮          ⋮          ⋮          ⋮ ⋱\n",
       "  42 │ 0.019561   0.0197202  0.0198813  0.0203755  0.0212378  0.0303814  0.051\n",
       "  43 │ 0.0182994  0.0184523  0.018607   0.019082   0.0199118  0.0287795  0.049 ⋯\n",
       "  44 │ 0.017126   0.0172727  0.0174213  0.0178776  0.0186757  0.0272714  0.047\n",
       "  45 │ 0.016034   0.0161748  0.0163173  0.0167555  0.0175228  0.0258512  0.046\n",
       "  46 │ 0.0150173  0.0151524  0.0152891  0.0157098  0.0164471  0.024513   0.044\n",
       "  47 │ 0.0140704  0.0141999  0.0143311  0.0147347  0.015443   0.0232517  0.043 ⋯\n",
       "  48 │ 0.0131881  0.0133122  0.013438   0.0138251  0.0145053  0.0220623  0.041\n",
       "  49 │ 0.0123656  0.0124845  0.012605   0.0129763  0.0136293  0.0209403  0.040\n",
       "  50 │ 0.0115985  0.0117124  0.0118279  0.0121838  0.0128106  0.0198814  0.038\n",
       "  51 │ 0.0108828  0.0109919  0.0111025  0.0114436  0.012045   0.0188816  0.037 ⋯\n",
       "\u001b[31m                                                    1 column and 30 rows omitted\u001b[0m"
      ]
     },
     "execution_count": 16,
     "metadata": {},
     "output_type": "execute_result"
    }
   ],
   "source": [
    "out_df = DataFrame(out)"
   ]
  }
 ],
 "metadata": {
  "@webio": {
   "lastCommId": null,
   "lastKernelId": null
  },
  "kernelspec": {
   "display_name": "Julia 1.5.3",
   "language": "julia",
   "name": "julia-1.5"
  },
  "language_info": {
   "file_extension": ".jl",
   "mimetype": "application/julia",
   "name": "julia",
   "version": "1.5.3"
  }
 },
 "nbformat": 4,
 "nbformat_minor": 4
}
